{
 "cells": [
  {
   "cell_type": "code",
   "execution_count": 81,
   "metadata": {},
   "outputs": [],
   "source": [
    "import pandas as pd\n",
    "import numpy as np"
   ]
  },
  {
   "cell_type": "code",
   "execution_count": null,
   "metadata": {},
   "outputs": [],
   "source": [
    "# Neste projeto, tentei avaliar se o Veado-catingueiro e possíveis variáveis que poderiam afetar sua detecção em cameras-trap\n",
    "# poderiam ser submetidas em um processo de machine learning para verificar se é possivel predizer quando o mamífero poderia ser detectado ou não por uma camera-trap"
   ]
  },
  {
   "cell_type": "code",
   "execution_count": 69,
   "metadata": {},
   "outputs": [],
   "source": [
    "sp = pd.read_csv(\"sp.csv\")"
   ]
  },
  {
   "cell_type": "code",
   "execution_count": null,
   "metadata": {},
   "outputs": [],
   "source": [
    "#Pontos : ao todo foram instaladas 380 armadilhas fotográficas, temos uma variavel booleana que indica a presençao ou ausencia de registro do mamifero na camera-trap\n",
    "#UC: variavel booleana, indica se a camera-trap foi instalada ou não instalada dentro de parque florestal\n",
    "#psipuma: variavel float que indica a probabilidade da presença de um predador onde a camera-trap foi instalada\n",
    "#Dist.agua: variavel float (padronizada) que indica a distancia da camera-trap para algum curso de agua natural\n",
    "#Dist.comunidade:  variavel float  (padronizada) que indica a distancia da camera-trap para alguma comunidade humana\n",
    "#CD: variavel booleana que indica se a camera-trap foi instalada em área de cerrado denso\n",
    "#CR: variavel booleana que indica se a camera-trap foi instalada em área de cerrado ralo\n",
    "#CT: variavel booleana que indica se a camera-trap foi instalada em área de cerrado tipico\n",
    "#HU: variavel booleana que indica se a camera-trap foi instalada em área antropizada\n",
    "#MS: variavel booleana que indica se a camera-trap foi instalada em área de mata seca\n",
    "#VR: variavel booleana que indica se a camera-trap foi instalada em área de vegetação ripária\n",
    "#trilha p1: variavel float (padronizada) que indica a largura da trilha onde a camera trap foi instalada\n",
    "#gado p1: variavel booleana (padronizada) que indica a presença ou ausencia de gado onde a camera-trap foi instalada\n",
    "#pppuma: variavel float que indica a probabilidade de detecção do predador (onça parda) na camera trap instalada"
   ]
  },
  {
   "cell_type": "code",
   "execution_count": 70,
   "metadata": {},
   "outputs": [
    {
     "data": {
      "text/html": [
       "<div>\n",
       "<style scoped>\n",
       "    .dataframe tbody tr th:only-of-type {\n",
       "        vertical-align: middle;\n",
       "    }\n",
       "\n",
       "    .dataframe tbody tr th {\n",
       "        vertical-align: top;\n",
       "    }\n",
       "\n",
       "    .dataframe thead th {\n",
       "        text-align: right;\n",
       "    }\n",
       "</style>\n",
       "<table border=\"1\" class=\"dataframe\">\n",
       "  <thead>\n",
       "    <tr style=\"text-align: right;\">\n",
       "      <th></th>\n",
       "      <th>Pontos</th>\n",
       "      <th>UC</th>\n",
       "      <th>psipuma</th>\n",
       "      <th>Dist.agua</th>\n",
       "      <th>Dist.comunidade</th>\n",
       "      <th>CD</th>\n",
       "      <th>CR</th>\n",
       "      <th>CT</th>\n",
       "      <th>HU</th>\n",
       "      <th>MS</th>\n",
       "      <th>VR</th>\n",
       "      <th>trilha p1</th>\n",
       "      <th>gado p1</th>\n",
       "      <th>ppuma</th>\n",
       "    </tr>\n",
       "  </thead>\n",
       "  <tbody>\n",
       "    <tr>\n",
       "      <th>0</th>\n",
       "      <td>1</td>\n",
       "      <td>1</td>\n",
       "      <td>0.0853</td>\n",
       "      <td>0.318</td>\n",
       "      <td>1.028</td>\n",
       "      <td>0</td>\n",
       "      <td>0</td>\n",
       "      <td>1</td>\n",
       "      <td>0</td>\n",
       "      <td>0</td>\n",
       "      <td>0</td>\n",
       "      <td>-0.708</td>\n",
       "      <td>1.0</td>\n",
       "      <td>0.0853</td>\n",
       "    </tr>\n",
       "    <tr>\n",
       "      <th>1</th>\n",
       "      <td>1</td>\n",
       "      <td>1</td>\n",
       "      <td>0.1187</td>\n",
       "      <td>1.040</td>\n",
       "      <td>-0.116</td>\n",
       "      <td>0</td>\n",
       "      <td>0</td>\n",
       "      <td>1</td>\n",
       "      <td>0</td>\n",
       "      <td>0</td>\n",
       "      <td>0</td>\n",
       "      <td>-0.207</td>\n",
       "      <td>0.0</td>\n",
       "      <td>0.1187</td>\n",
       "    </tr>\n",
       "    <tr>\n",
       "      <th>2</th>\n",
       "      <td>0</td>\n",
       "      <td>1</td>\n",
       "      <td>1.0000</td>\n",
       "      <td>1.638</td>\n",
       "      <td>-0.681</td>\n",
       "      <td>0</td>\n",
       "      <td>0</td>\n",
       "      <td>1</td>\n",
       "      <td>0</td>\n",
       "      <td>0</td>\n",
       "      <td>0</td>\n",
       "      <td>-0.225</td>\n",
       "      <td>1.0</td>\n",
       "      <td>1.0000</td>\n",
       "    </tr>\n",
       "    <tr>\n",
       "      <th>3</th>\n",
       "      <td>1</td>\n",
       "      <td>1</td>\n",
       "      <td>0.1175</td>\n",
       "      <td>1.293</td>\n",
       "      <td>0.975</td>\n",
       "      <td>0</td>\n",
       "      <td>0</td>\n",
       "      <td>1</td>\n",
       "      <td>0</td>\n",
       "      <td>0</td>\n",
       "      <td>0</td>\n",
       "      <td>-0.070</td>\n",
       "      <td>0.0</td>\n",
       "      <td>0.1175</td>\n",
       "    </tr>\n",
       "    <tr>\n",
       "      <th>4</th>\n",
       "      <td>1</td>\n",
       "      <td>1</td>\n",
       "      <td>0.1145</td>\n",
       "      <td>1.214</td>\n",
       "      <td>0.644</td>\n",
       "      <td>0</td>\n",
       "      <td>0</td>\n",
       "      <td>1</td>\n",
       "      <td>0</td>\n",
       "      <td>0</td>\n",
       "      <td>0</td>\n",
       "      <td>1.181</td>\n",
       "      <td>0.0</td>\n",
       "      <td>0.1145</td>\n",
       "    </tr>\n",
       "  </tbody>\n",
       "</table>\n",
       "</div>"
      ],
      "text/plain": [
       "   Pontos  UC  psipuma  Dist.agua  Dist.comunidade  CD  CR  CT  HU  MS  VR  \\\n",
       "0       1   1   0.0853      0.318            1.028   0   0   1   0   0   0   \n",
       "1       1   1   0.1187      1.040           -0.116   0   0   1   0   0   0   \n",
       "2       0   1   1.0000      1.638           -0.681   0   0   1   0   0   0   \n",
       "3       1   1   0.1175      1.293            0.975   0   0   1   0   0   0   \n",
       "4       1   1   0.1145      1.214            0.644   0   0   1   0   0   0   \n",
       "\n",
       "   trilha p1  gado p1   ppuma  \n",
       "0     -0.708      1.0  0.0853  \n",
       "1     -0.207      0.0  0.1187  \n",
       "2     -0.225      1.0  1.0000  \n",
       "3     -0.070      0.0  0.1175  \n",
       "4      1.181      0.0  0.1145  "
      ]
     },
     "execution_count": 70,
     "metadata": {},
     "output_type": "execute_result"
    }
   ],
   "source": [
    "sp.head ()"
   ]
  },
  {
   "cell_type": "code",
   "execution_count": 71,
   "metadata": {},
   "outputs": [
    {
     "data": {
      "text/html": [
       "<div>\n",
       "<style scoped>\n",
       "    .dataframe tbody tr th:only-of-type {\n",
       "        vertical-align: middle;\n",
       "    }\n",
       "\n",
       "    .dataframe tbody tr th {\n",
       "        vertical-align: top;\n",
       "    }\n",
       "\n",
       "    .dataframe thead th {\n",
       "        text-align: right;\n",
       "    }\n",
       "</style>\n",
       "<table border=\"1\" class=\"dataframe\">\n",
       "  <thead>\n",
       "    <tr style=\"text-align: right;\">\n",
       "      <th></th>\n",
       "      <th>Pontos</th>\n",
       "      <th>UC</th>\n",
       "      <th>psipuma</th>\n",
       "      <th>Dist.agua</th>\n",
       "      <th>Dist.comunidade</th>\n",
       "      <th>CD</th>\n",
       "      <th>CR</th>\n",
       "      <th>CT</th>\n",
       "      <th>HU</th>\n",
       "      <th>MS</th>\n",
       "      <th>VR</th>\n",
       "      <th>trilha p1</th>\n",
       "      <th>gado p1</th>\n",
       "      <th>ppuma</th>\n",
       "    </tr>\n",
       "  </thead>\n",
       "  <tbody>\n",
       "    <tr>\n",
       "      <th>count</th>\n",
       "      <td>380.000000</td>\n",
       "      <td>380.000000</td>\n",
       "      <td>380.000000</td>\n",
       "      <td>380.000000</td>\n",
       "      <td>380.000000</td>\n",
       "      <td>380.000000</td>\n",
       "      <td>380.000000</td>\n",
       "      <td>380.000000</td>\n",
       "      <td>380.000000</td>\n",
       "      <td>380.000000</td>\n",
       "      <td>380.000000</td>\n",
       "      <td>380.000000</td>\n",
       "      <td>380.000000</td>\n",
       "      <td>380.000000</td>\n",
       "    </tr>\n",
       "    <tr>\n",
       "      <th>mean</th>\n",
       "      <td>0.460526</td>\n",
       "      <td>0.505263</td>\n",
       "      <td>0.312781</td>\n",
       "      <td>-0.077205</td>\n",
       "      <td>0.015426</td>\n",
       "      <td>0.102632</td>\n",
       "      <td>0.213158</td>\n",
       "      <td>0.431579</td>\n",
       "      <td>0.094737</td>\n",
       "      <td>0.081579</td>\n",
       "      <td>0.073684</td>\n",
       "      <td>-0.018882</td>\n",
       "      <td>0.525000</td>\n",
       "      <td>0.312781</td>\n",
       "    </tr>\n",
       "    <tr>\n",
       "      <th>std</th>\n",
       "      <td>0.499097</td>\n",
       "      <td>0.500631</td>\n",
       "      <td>0.297485</td>\n",
       "      <td>1.029624</td>\n",
       "      <td>1.032455</td>\n",
       "      <td>0.303877</td>\n",
       "      <td>0.410078</td>\n",
       "      <td>0.495949</td>\n",
       "      <td>0.293237</td>\n",
       "      <td>0.274083</td>\n",
       "      <td>0.261601</td>\n",
       "      <td>0.981198</td>\n",
       "      <td>0.499373</td>\n",
       "      <td>0.297485</td>\n",
       "    </tr>\n",
       "    <tr>\n",
       "      <th>min</th>\n",
       "      <td>0.000000</td>\n",
       "      <td>0.000000</td>\n",
       "      <td>0.036400</td>\n",
       "      <td>-1.875000</td>\n",
       "      <td>-2.811000</td>\n",
       "      <td>0.000000</td>\n",
       "      <td>0.000000</td>\n",
       "      <td>0.000000</td>\n",
       "      <td>0.000000</td>\n",
       "      <td>0.000000</td>\n",
       "      <td>0.000000</td>\n",
       "      <td>-1.738000</td>\n",
       "      <td>0.000000</td>\n",
       "      <td>0.036400</td>\n",
       "    </tr>\n",
       "    <tr>\n",
       "      <th>25%</th>\n",
       "      <td>0.000000</td>\n",
       "      <td>0.000000</td>\n",
       "      <td>0.067275</td>\n",
       "      <td>-0.910000</td>\n",
       "      <td>-0.777250</td>\n",
       "      <td>0.000000</td>\n",
       "      <td>0.000000</td>\n",
       "      <td>0.000000</td>\n",
       "      <td>0.000000</td>\n",
       "      <td>0.000000</td>\n",
       "      <td>0.000000</td>\n",
       "      <td>-0.286500</td>\n",
       "      <td>0.000000</td>\n",
       "      <td>0.067275</td>\n",
       "    </tr>\n",
       "    <tr>\n",
       "      <th>50%</th>\n",
       "      <td>0.000000</td>\n",
       "      <td>1.000000</td>\n",
       "      <td>0.274700</td>\n",
       "      <td>-0.196000</td>\n",
       "      <td>-0.072500</td>\n",
       "      <td>0.000000</td>\n",
       "      <td>0.000000</td>\n",
       "      <td>0.000000</td>\n",
       "      <td>0.000000</td>\n",
       "      <td>0.000000</td>\n",
       "      <td>0.000000</td>\n",
       "      <td>0.014000</td>\n",
       "      <td>1.000000</td>\n",
       "      <td>0.274700</td>\n",
       "    </tr>\n",
       "    <tr>\n",
       "      <th>75%</th>\n",
       "      <td>1.000000</td>\n",
       "      <td>1.000000</td>\n",
       "      <td>0.445300</td>\n",
       "      <td>0.801250</td>\n",
       "      <td>0.791750</td>\n",
       "      <td>0.000000</td>\n",
       "      <td>0.000000</td>\n",
       "      <td>1.000000</td>\n",
       "      <td>0.000000</td>\n",
       "      <td>0.000000</td>\n",
       "      <td>0.000000</td>\n",
       "      <td>0.050000</td>\n",
       "      <td>1.000000</td>\n",
       "      <td>0.445300</td>\n",
       "    </tr>\n",
       "    <tr>\n",
       "      <th>max</th>\n",
       "      <td>1.000000</td>\n",
       "      <td>1.000000</td>\n",
       "      <td>1.000000</td>\n",
       "      <td>2.321000</td>\n",
       "      <td>2.829000</td>\n",
       "      <td>1.000000</td>\n",
       "      <td>1.000000</td>\n",
       "      <td>1.000000</td>\n",
       "      <td>1.000000</td>\n",
       "      <td>1.000000</td>\n",
       "      <td>1.000000</td>\n",
       "      <td>4.159000</td>\n",
       "      <td>1.000000</td>\n",
       "      <td>1.000000</td>\n",
       "    </tr>\n",
       "  </tbody>\n",
       "</table>\n",
       "</div>"
      ],
      "text/plain": [
       "           Pontos          UC     psipuma   Dist.agua  Dist.comunidade  \\\n",
       "count  380.000000  380.000000  380.000000  380.000000       380.000000   \n",
       "mean     0.460526    0.505263    0.312781   -0.077205         0.015426   \n",
       "std      0.499097    0.500631    0.297485    1.029624         1.032455   \n",
       "min      0.000000    0.000000    0.036400   -1.875000        -2.811000   \n",
       "25%      0.000000    0.000000    0.067275   -0.910000        -0.777250   \n",
       "50%      0.000000    1.000000    0.274700   -0.196000        -0.072500   \n",
       "75%      1.000000    1.000000    0.445300    0.801250         0.791750   \n",
       "max      1.000000    1.000000    1.000000    2.321000         2.829000   \n",
       "\n",
       "               CD          CR          CT          HU          MS          VR  \\\n",
       "count  380.000000  380.000000  380.000000  380.000000  380.000000  380.000000   \n",
       "mean     0.102632    0.213158    0.431579    0.094737    0.081579    0.073684   \n",
       "std      0.303877    0.410078    0.495949    0.293237    0.274083    0.261601   \n",
       "min      0.000000    0.000000    0.000000    0.000000    0.000000    0.000000   \n",
       "25%      0.000000    0.000000    0.000000    0.000000    0.000000    0.000000   \n",
       "50%      0.000000    0.000000    0.000000    0.000000    0.000000    0.000000   \n",
       "75%      0.000000    0.000000    1.000000    0.000000    0.000000    0.000000   \n",
       "max      1.000000    1.000000    1.000000    1.000000    1.000000    1.000000   \n",
       "\n",
       "        trilha p1     gado p1       ppuma  \n",
       "count  380.000000  380.000000  380.000000  \n",
       "mean    -0.018882    0.525000    0.312781  \n",
       "std      0.981198    0.499373    0.297485  \n",
       "min     -1.738000    0.000000    0.036400  \n",
       "25%     -0.286500    0.000000    0.067275  \n",
       "50%      0.014000    1.000000    0.274700  \n",
       "75%      0.050000    1.000000    0.445300  \n",
       "max      4.159000    1.000000    1.000000  "
      ]
     },
     "execution_count": 71,
     "metadata": {},
     "output_type": "execute_result"
    }
   ],
   "source": [
    "sp.describe()"
   ]
  },
  {
   "cell_type": "code",
   "execution_count": 72,
   "metadata": {},
   "outputs": [
    {
     "name": "stdout",
     "output_type": "stream",
     "text": [
      "<class 'pandas.core.frame.DataFrame'>\n",
      "RangeIndex: 380 entries, 0 to 379\n",
      "Data columns (total 14 columns):\n",
      " #   Column           Non-Null Count  Dtype  \n",
      "---  ------           --------------  -----  \n",
      " 0   Pontos           380 non-null    int64  \n",
      " 1   UC               380 non-null    int64  \n",
      " 2   psipuma          380 non-null    float64\n",
      " 3   Dist.agua        380 non-null    float64\n",
      " 4   Dist.comunidade  380 non-null    float64\n",
      " 5   CD               380 non-null    int64  \n",
      " 6   CR               380 non-null    int64  \n",
      " 7   CT               380 non-null    int64  \n",
      " 8   HU               380 non-null    int64  \n",
      " 9   MS               380 non-null    int64  \n",
      " 10  VR               380 non-null    int64  \n",
      " 11  trilha p1        380 non-null    float64\n",
      " 12  gado p1          380 non-null    float64\n",
      " 13  ppuma            380 non-null    float64\n",
      "dtypes: float64(6), int64(8)\n",
      "memory usage: 41.7 KB\n"
     ]
    }
   ],
   "source": [
    "sp.info()"
   ]
  },
  {
   "cell_type": "code",
   "execution_count": 30,
   "metadata": {},
   "outputs": [],
   "source": [
    "import matplotlib.pyplot as plt\n",
    "import seaborn as sns"
   ]
  },
  {
   "cell_type": "code",
   "execution_count": 51,
   "metadata": {},
   "outputs": [],
   "source": [
    "#abaixo vamos treinar os dados, para tentar prever a quantidade de registros de veado-catingueiro, a partir das variveis coletadas"
   ]
  },
  {
   "cell_type": "code",
   "execution_count": 74,
   "metadata": {},
   "outputs": [],
   "source": [
    "from sklearn.model_selection import train_test_split"
   ]
  },
  {
   "cell_type": "code",
   "execution_count": 75,
   "metadata": {},
   "outputs": [
    {
     "name": "stdout",
     "output_type": "stream",
     "text": [
      "<class 'pandas.core.frame.DataFrame'>\n",
      "RangeIndex: 380 entries, 0 to 379\n",
      "Data columns (total 14 columns):\n",
      " #   Column           Non-Null Count  Dtype  \n",
      "---  ------           --------------  -----  \n",
      " 0   Pontos           380 non-null    int64  \n",
      " 1   UC               380 non-null    int64  \n",
      " 2   psipuma          380 non-null    float64\n",
      " 3   Dist.agua        380 non-null    float64\n",
      " 4   Dist.comunidade  380 non-null    float64\n",
      " 5   CD               380 non-null    int64  \n",
      " 6   CR               380 non-null    int64  \n",
      " 7   CT               380 non-null    int64  \n",
      " 8   HU               380 non-null    int64  \n",
      " 9   MS               380 non-null    int64  \n",
      " 10  VR               380 non-null    int64  \n",
      " 11  trilha p1        380 non-null    float64\n",
      " 12  gado p1          380 non-null    float64\n",
      " 13  ppuma            380 non-null    float64\n",
      "dtypes: float64(6), int64(8)\n",
      "memory usage: 41.7 KB\n"
     ]
    }
   ],
   "source": [
    "sp.info()"
   ]
  },
  {
   "cell_type": "code",
   "execution_count": 76,
   "metadata": {},
   "outputs": [],
   "source": [
    "x = sp[['UC', 'psipuma', 'Dist.agua','Dist.comunidade', 'CD', 'CR', 'CT','HU','MS','VR','trilha p1', 'gado p1', 'ppuma']]\n",
    "y = sp['Pontos']"
   ]
  },
  {
   "cell_type": "code",
   "execution_count": 77,
   "metadata": {},
   "outputs": [],
   "source": [
    "x_train, x_test, y_train, y_test = train_test_split(x, y, test_size=0.33, random_state=42)"
   ]
  },
  {
   "cell_type": "code",
   "execution_count": 63,
   "metadata": {},
   "outputs": [],
   "source": [
    "from sklearn.linear_model import LogisticRegression"
   ]
  },
  {
   "cell_type": "code",
   "execution_count": 78,
   "metadata": {},
   "outputs": [
    {
     "data": {
      "text/plain": [
       "LogisticRegression()"
      ]
     },
     "execution_count": 78,
     "metadata": {},
     "output_type": "execute_result"
    }
   ],
   "source": [
    "logmodel = LogisticRegression()\n",
    "logmodel.fit(x_train,y_train)"
   ]
  },
  {
   "cell_type": "code",
   "execution_count": 79,
   "metadata": {},
   "outputs": [],
   "source": [
    "predictions = logmodel.predict(x_test)"
   ]
  },
  {
   "cell_type": "code",
   "execution_count": 67,
   "metadata": {},
   "outputs": [],
   "source": [
    "from sklearn.metrics import classification_report"
   ]
  },
  {
   "cell_type": "code",
   "execution_count": null,
   "metadata": {},
   "outputs": [],
   "source": [
    "#Abaixo vemos a precisão e acuracia deste treinamento baseado em dados reais"
   ]
  },
  {
   "cell_type": "code",
   "execution_count": 80,
   "metadata": {},
   "outputs": [
    {
     "name": "stdout",
     "output_type": "stream",
     "text": [
      "              precision    recall  f1-score   support\n",
      "\n",
      "           0       0.54      0.75      0.63        65\n",
      "           1       0.56      0.33      0.41        61\n",
      "\n",
      "    accuracy                           0.55       126\n",
      "   macro avg       0.55      0.54      0.52       126\n",
      "weighted avg       0.55      0.55      0.53       126\n",
      "\n"
     ]
    }
   ],
   "source": [
    "print(classification_report(y_test,predictions))"
   ]
  },
  {
   "cell_type": "code",
   "execution_count": null,
   "metadata": {},
   "outputs": [],
   "source": []
  }
 ],
 "metadata": {
  "kernelspec": {
   "display_name": "Python 3",
   "language": "python",
   "name": "python3"
  },
  "language_info": {
   "codemirror_mode": {
    "name": "ipython",
    "version": 3
   },
   "file_extension": ".py",
   "mimetype": "text/x-python",
   "name": "python",
   "nbconvert_exporter": "python",
   "pygments_lexer": "ipython3",
   "version": "3.8.5"
  }
 },
 "nbformat": 4,
 "nbformat_minor": 4
}
